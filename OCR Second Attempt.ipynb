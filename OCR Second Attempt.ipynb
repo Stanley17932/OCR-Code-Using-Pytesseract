{
 "cells": [
  {
   "cell_type": "code",
   "execution_count": 1,
   "id": "12d0fe00",
   "metadata": {},
   "outputs": [],
   "source": [
    "#necesary libraries\n",
    "import layoutparser.ocr as ocr\n",
    "import cv2\n",
    "import numpy as np\n",
    "import io\n",
    "import pandas as pd\n",
    "import os\n",
    "from PIL import Image\n",
    "import pytesseract as pt\n",
    "import matplotlib.pyplot as plt"
   ]
  },
  {
   "cell_type": "code",
   "execution_count": 2,
   "id": "b6f1df7f",
   "metadata": {},
   "outputs": [],
   "source": [
    "img_path = 'C:/Users/stanl/OneDrive/Desktop/OCR/'"
   ]
  },
  {
   "cell_type": "code",
   "execution_count": 3,
   "id": "3cc38b9c",
   "metadata": {},
   "outputs": [],
   "source": [
    "#create image path to access the different files in the folder\n",
    "create_path = lambda f: os.path.join(img_path,f )"
   ]
  },
  {
   "cell_type": "code",
   "execution_count": 4,
   "id": "a2dafc9a",
   "metadata": {},
   "outputs": [
    {
     "name": "stdout",
     "output_type": "stream",
     "text": [
      ".ipynb_checkpoints\n",
      "files\n",
      "img1.jpg\n",
      "menu1.jpg\n",
      "menu2.jpg\n",
      "menu3.png\n",
      "OCR and Pytorch.ipynb\n",
      "OCR Second Attempt.ipynb\n",
      "ocr-t\n",
      "oct_pytess.py\n"
     ]
    }
   ],
   "source": [
    "image_files = os.listdir(img_path)\n",
    "for f in image_files:\n",
    "    print(f)"
   ]
  },
  {
   "cell_type": "code",
   "execution_count": 5,
   "id": "95b9748d",
   "metadata": {},
   "outputs": [],
   "source": [
    "# Set the path for the tesseract command in pytesseract to the specified location.\n",
    "pt.pytesseract.tesseract_cmd = r'C:\\Program files\\Tesseract-OCR\\tesseract.exe'"
   ]
  },
  {
   "cell_type": "markdown",
   "id": "abef8fbc",
   "metadata": {},
   "source": [
    "### Language Configuration"
   ]
  },
  {
   "cell_type": "code",
   "execution_count": 6,
   "id": "5a7b2b38",
   "metadata": {},
   "outputs": [
    {
     "name": "stdout",
     "output_type": "stream",
     "text": [
      "chi_sim\n",
      "chi_tra\n",
      "eng\n",
      "fra\n",
      "osd\n",
      "pol\n",
      "rus\n",
      "spa\n",
      "spa_old\n"
     ]
    }
   ],
   "source": [
    "#using cmd: tesseract --list-langs\n",
    "avb_langs = pt.get_languages(config ='')\n",
    "\n",
    "for lang in avb_langs:\n",
    "    print(lang)"
   ]
  },
  {
   "cell_type": "markdown",
   "id": "498e098b",
   "metadata": {},
   "source": [
    "### Image Preprocessing Steps"
   ]
  },
  {
   "cell_type": "code",
   "execution_count": 66,
   "id": "f07a33b2",
   "metadata": {},
   "outputs": [],
   "source": [
    "image = cv2.imread(image_files[5])\n",
    "size = (900,900)\n",
    "image = cv2.resize(image, size)"
   ]
  },
  {
   "cell_type": "code",
   "execution_count": 67,
   "id": "a788594c",
   "metadata": {},
   "outputs": [],
   "source": [
    "gray = cv2.cvtColor(image, cv2.COLOR_BGR2GRAY)\n",
    "cv2.imshow(\"Image\",gray)\n",
    "cv2.waitKey(0)\n",
    "cv2.destroyAllWindows()"
   ]
  },
  {
   "cell_type": "code",
   "execution_count": 68,
   "id": "a3ffbcc3",
   "metadata": {},
   "outputs": [],
   "source": [
    "# Gaussian Blur/Noise Removal\n",
    "blur = cv2.GaussianBlur(gray, (7,7), 0)"
   ]
  },
  {
   "cell_type": "code",
   "execution_count": 69,
   "id": "2d6f0a3c",
   "metadata": {},
   "outputs": [],
   "source": [
    "cv2.imshow(\"Image\",blur)\n",
    "cv2.waitKey(0)\n",
    "cv2.destroyAllWindows()"
   ]
  },
  {
   "cell_type": "code",
   "execution_count": 70,
   "id": "9d92b749",
   "metadata": {},
   "outputs": [],
   "source": [
    "#Otsu thresholding \n",
    "thresh = cv2.threshold(blur, 0, 255, cv2.THRESH_BINARY_INV + cv2.THRESH_OTSU)[1]\n",
    "cv2.imshow(\"Image\",thresh)\n",
    "cv2.waitKey(0)\n",
    "cv2.destroyAllWindows()"
   ]
  },
  {
   "cell_type": "code",
   "execution_count": 71,
   "id": "ed53ffa4",
   "metadata": {},
   "outputs": [],
   "source": [
    "#Dilation and Kernels\n",
    "kernel = cv2.getStructuringElement(cv2.MORPH_RECT, (3, 13))\n",
    "cv2.imshow(\"Image\",kernel)\n",
    "cv2.waitKey(0)\n",
    "cv2.destroyAllWindows()"
   ]
  },
  {
   "cell_type": "code",
   "execution_count": 72,
   "id": "ae6fd9ce",
   "metadata": {},
   "outputs": [],
   "source": [
    "#dilation \n",
    "dilate = cv2.dilate(thresh, kernel, iterations=1)\n",
    "cv2.imshow(\"Image\",dilate)\n",
    "cv2.waitKey(0)\n",
    "cv2.destroyAllWindows()"
   ]
  },
  {
   "cell_type": "markdown",
   "id": "f959a77d",
   "metadata": {},
   "source": [
    "## Bounding Boxes and Contours "
   ]
  },
  {
   "cell_type": "code",
   "execution_count": 73,
   "id": "1c4291b6",
   "metadata": {},
   "outputs": [],
   "source": [
    "cnts = cv2.findContours(dilate, cv2.RETR_EXTERNAL, cv2.CHAIN_APPROX_SIMPLE)"
   ]
  },
  {
   "cell_type": "code",
   "execution_count": 74,
   "id": "fefe391f",
   "metadata": {},
   "outputs": [],
   "source": [
    "cnts = cnts[0] if len(cnts) == 2 else cnts[1]"
   ]
  },
  {
   "cell_type": "code",
   "execution_count": 75,
   "id": "88e6f670",
   "metadata": {},
   "outputs": [],
   "source": [
    "cnts = sorted(cnts, key=lambda x: cv2.boundingRect(x)[0])"
   ]
  },
  {
   "cell_type": "code",
   "execution_count": 88,
   "id": "3b06c5bb",
   "metadata": {},
   "outputs": [],
   "source": [
    "results = []\n",
    "for c in cnts:\n",
    "    x, y, w, h = cv2.boundingRect(c)\n",
    "    if h > 200 and w > 20:\n",
    "        roi = image[x:x+w, y:y+h]\n",
    "        cv2.rectangle(image, (x,y), (x+w, y+h), (36, 255, 12),2)\n",
    "        ocr_result = pt.image_to_string(image)\n",
    "        ocr_result = ocr_result.split(\"\\n\")\n",
    "#         print(ocr_result)\n",
    "        for item in ocr_result:\n",
    "            results.append(item)\n",
    "               \n",
    "# cv2.imshow(\"Image\",image)\n",
    "# cv2.waitKey(0)\n",
    "# cv2.destroyAllWindows()"
   ]
  },
  {
   "cell_type": "code",
   "execution_count": 90,
   "id": "93fa73e5",
   "metadata": {},
   "outputs": [
    {
     "name": "stdout",
     "output_type": "stream",
     "text": [
      "['<< Sangtien Brito', '', 'Hors D’Oeuvres', '', 'Free-Form Millet Tart su', '', 'Salmon Tartare: $14', 'Grilled Sea Scallops si3', 'Cheesy Papillons sn', '', 'Gruyere and Camembert Fondue $4', 'Cosmic Walnut Salad $10', '', 'Entrées', '', 'Steak Frites $20', 'Quiche Lorraine $22', 'Croque Madame sI6', '‘Croque Monsieur si6', 'Lamb Chops with Fantastique Sauce $30', 'Cassoulet gio', 'Cog Au Vin $22', 'Roasted Figs and Ham $26', '', 'Ala carte menu available daily from 5 p.m.to ll pm.', '', 'Open every day of the year. 18% gratuity on parties of 5 or more.', '', '', '<< Sangtien Brito', '', 'Hors D’Oeuvres', '', 'Free-Form Millet Tart su', '', 'Salmon Tartare: $14', 'Grilled Sea Scallops si3', 'Cheesy Papillons sn', '', 'Gruyere and Camembert Fondue $4', 'Cosmic Walnut Salad $10', '', 'Entrées', '', 'Steak Frites $20', 'Quiche Lorraine $22', 'Croque Madame sI6', '‘Croque Monsieur si6', 'Lamb Chops with Fantastique Sauce $30', 'Cassoulet gio', 'Cog Au Vin $22', 'Roasted Figs and Ham $26', '', 'Ala carte menu available daily from 5 p.m.to ll pm.', '', 'Open every day of the year. 18% gratuity on parties of 5 or more.', '', '']\n"
     ]
    }
   ],
   "source": [
    "print(results)"
   ]
  },
  {
   "cell_type": "code",
   "execution_count": 111,
   "id": "6bd867f0",
   "metadata": {},
   "outputs": [],
   "source": [
    "entities = results"
   ]
  },
  {
   "cell_type": "code",
   "execution_count": 112,
   "id": "b14fdc98",
   "metadata": {},
   "outputs": [
    {
     "name": "stdout",
     "output_type": "stream",
     "text": [
      "['<< Sangtien Brito', '', 'Hors D’Oeuvres', '', 'Free-Form Millet Tart su', '', 'Salmon Tartare: $14', 'Grilled Sea Scallops si3', 'Cheesy Papillons sn', '', 'Gruyere and Camembert Fondue $4', 'Cosmic Walnut Salad $10', '', 'Entrées', '', 'Steak Frites $20', 'Quiche Lorraine $22', 'Croque Madame sI6', '‘Croque Monsieur si6', 'Lamb Chops with Fantastique Sauce $30', 'Cassoulet gio', 'Cog Au Vin $22', 'Roasted Figs and Ham $26', '', 'Ala carte menu available daily from 5 p.m.to ll pm.', '', 'Open every day of the year. 18% gratuity on parties of 5 or more.', '', '', '<< Sangtien Brito', '', 'Hors D’Oeuvres', '', 'Free-Form Millet Tart su', '', 'Salmon Tartare: $14', 'Grilled Sea Scallops si3', 'Cheesy Papillons sn', '', 'Gruyere and Camembert Fondue $4', 'Cosmic Walnut Salad $10', '', 'Entrées', '', 'Steak Frites $20', 'Quiche Lorraine $22', 'Croque Madame sI6', '‘Croque Monsieur si6', 'Lamb Chops with Fantastique Sauce $30', 'Cassoulet gio', 'Cog Au Vin $22', 'Roasted Figs and Ham $26', '', 'Ala carte menu available daily from 5 p.m.to ll pm.', '', 'Open every day of the year. 18% gratuity on parties of 5 or more.', '', '']\n"
     ]
    }
   ],
   "source": [
    "print(entities)"
   ]
  },
  {
   "cell_type": "code",
   "execution_count": 113,
   "id": "33443cf5",
   "metadata": {},
   "outputs": [],
   "source": [
    "entities = list(set(entities))"
   ]
  },
  {
   "cell_type": "code",
   "execution_count": 114,
   "id": "d76c896b",
   "metadata": {},
   "outputs": [
    {
     "name": "stdout",
     "output_type": "stream",
     "text": [
      "['', 'Quiche Lorraine $22', 'Open every day of the year. 18% gratuity on parties of 5 or more.', '‘Croque Monsieur si6', 'Cosmic Walnut Salad $10', 'Cheesy Papillons sn', 'Ala carte menu available daily from 5 p.m.to ll pm.', 'Salmon Tartare: $14', 'Entrées', 'Roasted Figs and Ham $26', 'Gruyere and Camembert Fondue $4', 'Steak Frites $20', 'Grilled Sea Scallops si3', 'Free-Form Millet Tart su', 'Cassoulet gio', 'Lamb Chops with Fantastique Sauce $30', 'Cog Au Vin $22', 'Hors D’Oeuvres', '<< Sangtien Brito', 'Croque Madame sI6']\n"
     ]
    }
   ],
   "source": [
    "print(entities)"
   ]
  },
  {
   "cell_type": "code",
   "execution_count": 115,
   "id": "cd10e4bb",
   "metadata": {},
   "outputs": [],
   "source": [
    "entities.sort()"
   ]
  },
  {
   "cell_type": "code",
   "execution_count": 116,
   "id": "a948ace7",
   "metadata": {},
   "outputs": [
    {
     "name": "stdout",
     "output_type": "stream",
     "text": [
      "['', '<< Sangtien Brito', 'Ala carte menu available daily from 5 p.m.to ll pm.', 'Cassoulet gio', 'Cheesy Papillons sn', 'Cog Au Vin $22', 'Cosmic Walnut Salad $10', 'Croque Madame sI6', 'Entrées', 'Free-Form Millet Tart su', 'Grilled Sea Scallops si3', 'Gruyere and Camembert Fondue $4', 'Hors D’Oeuvres', 'Lamb Chops with Fantastique Sauce $30', 'Open every day of the year. 18% gratuity on parties of 5 or more.', 'Quiche Lorraine $22', 'Roasted Figs and Ham $26', 'Salmon Tartare: $14', 'Steak Frites $20', '‘Croque Monsieur si6']\n"
     ]
    }
   ],
   "source": [
    "print(entities)"
   ]
  },
  {
   "cell_type": "code",
   "execution_count": 118,
   "id": "be17f13e",
   "metadata": {},
   "outputs": [],
   "source": [
    "entities =str(entities)"
   ]
  },
  {
   "cell_type": "code",
   "execution_count": 119,
   "id": "e7faca7d",
   "metadata": {},
   "outputs": [
    {
     "name": "stdout",
     "output_type": "stream",
     "text": [
      "['', '<< Brato Brito', 'Ala Menu Menu Avairable Daily from 5 p.m.to ll pm.', 'Cassoulet Gio', 'Cheesy Papillons Sn', 'Cog au vin $ 22', 'Cosmic Walnut Salad $ 10' , 'Croque Madame Si6', 'Entrances', 'Free-Form Millet Tart SU', 'Grilled Sea Scallops Si3', 'Gruyere and Camembert Fondue $ 4', 'out of works', 'Lamb chops with fantastic sauce $ 30' , 'Open Every Day of the Year. 18% free on part of 5 or more. ',' Quiche lorraine $ 22 ',' roasted figs and ham $ 26 ',' salmon tartare: $ 14 ',' steak fries $ 20 ',' ‘Croque Monsieur Si6 ']\n"
     ]
    }
   ],
   "source": [
    "#using textblob to translate from french to english\n",
    "from textblob import TextBlob\n",
    "tb = TextBlob(entities)\n",
    "translated = tb.translate(from_lang = 'fr', to='en') #customize to desired language \n",
    "print(translated)\n",
    "\n",
    "trans_text = str(translated)\n",
    "# print(type(trans_text))"
   ]
  },
  {
   "cell_type": "code",
   "execution_count": 128,
   "id": "e3acbe99",
   "metadata": {},
   "outputs": [],
   "source": [
    "import json\n",
    "\n",
    "with open('output.json', 'w') as json_outfile:\n",
    "    json.dump(trans_text, json_outfile)"
   ]
  },
  {
   "cell_type": "code",
   "execution_count": null,
   "id": "d9bf08ea",
   "metadata": {},
   "outputs": [],
   "source": []
  },
  {
   "cell_type": "code",
   "execution_count": null,
   "id": "54550841",
   "metadata": {},
   "outputs": [],
   "source": []
  },
  {
   "cell_type": "code",
   "execution_count": null,
   "id": "536aced1",
   "metadata": {},
   "outputs": [],
   "source": []
  },
  {
   "cell_type": "code",
   "execution_count": null,
   "id": "ed52b22a",
   "metadata": {},
   "outputs": [],
   "source": []
  },
  {
   "cell_type": "code",
   "execution_count": null,
   "id": "1176d681",
   "metadata": {},
   "outputs": [],
   "source": []
  },
  {
   "cell_type": "code",
   "execution_count": null,
   "id": "8159c102",
   "metadata": {},
   "outputs": [],
   "source": []
  },
  {
   "cell_type": "code",
   "execution_count": null,
   "id": "9c2281c0",
   "metadata": {},
   "outputs": [],
   "source": []
  }
 ],
 "metadata": {
  "kernelspec": {
   "display_name": "Python 3 (ipykernel)",
   "language": "python",
   "name": "python3"
  },
  "language_info": {
   "codemirror_mode": {
    "name": "ipython",
    "version": 3
   },
   "file_extension": ".py",
   "mimetype": "text/x-python",
   "name": "python",
   "nbconvert_exporter": "python",
   "pygments_lexer": "ipython3",
   "version": "3.8.8"
  }
 },
 "nbformat": 4,
 "nbformat_minor": 5
}
